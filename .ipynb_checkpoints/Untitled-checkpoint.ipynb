{
 "cells": [
  {
   "cell_type": "code",
   "execution_count": 1,
   "id": "4c14f293",
   "metadata": {},
   "outputs": [
    {
     "name": "stdout",
     "output_type": "stream",
     "text": [
      "Hi\n"
     ]
    }
   ],
   "source": [
    "print('Hi')"
   ]
  },
  {
   "cell_type": "code",
   "execution_count": 2,
   "id": "21ce8f58",
   "metadata": {},
   "outputs": [
    {
     "data": {
      "text/plain": [
       "'\\t It\\'s \"kind of\"sunny'"
      ]
     },
     "execution_count": 2,
     "metadata": {},
     "output_type": "execute_result"
    }
   ],
   "source": [
    "\"\\t It\\'s \\\"kind of\\\"sunny\""
   ]
  },
  {
   "cell_type": "code",
   "execution_count": 3,
   "id": "3f8821bd",
   "metadata": {},
   "outputs": [
    {
     "data": {
      "text/plain": [
       "2.4"
      ]
     },
     "execution_count": 3,
     "metadata": {},
     "output_type": "execute_result"
    }
   ],
   "source": [
    "12 / 5"
   ]
  },
  {
   "cell_type": "code",
   "execution_count": 4,
   "id": "155b798e",
   "metadata": {},
   "outputs": [
    {
     "data": {
      "text/plain": [
       "3.75"
      ]
     },
     "execution_count": 4,
     "metadata": {},
     "output_type": "execute_result"
    }
   ],
   "source": [
    "15 / 4"
   ]
  },
  {
   "cell_type": "code",
   "execution_count": 5,
   "id": "8c081b56",
   "metadata": {},
   "outputs": [
    {
     "data": {
      "text/plain": [
       "3"
      ]
     },
     "execution_count": 5,
     "metadata": {},
     "output_type": "execute_result"
    }
   ],
   "source": [
    "15//4"
   ]
  },
  {
   "cell_type": "code",
   "execution_count": 6,
   "id": "8507ba1c",
   "metadata": {},
   "outputs": [
    {
     "data": {
      "text/plain": [
       "1.5"
      ]
     },
     "execution_count": 6,
     "metadata": {},
     "output_type": "execute_result"
    }
   ],
   "source": [
    "3 / 2"
   ]
  },
  {
   "cell_type": "code",
   "execution_count": 8,
   "id": "1a5aabdb",
   "metadata": {},
   "outputs": [
    {
     "data": {
      "text/plain": [
       "1"
      ]
     },
     "execution_count": 8,
     "metadata": {},
     "output_type": "execute_result"
    }
   ],
   "source": [
    "3 // 2"
   ]
  },
  {
   "cell_type": "code",
   "execution_count": 11,
   "id": "dc39c8dd",
   "metadata": {},
   "outputs": [
    {
     "name": "stdout",
     "output_type": "stream",
     "text": [
      "hi Echerem.  You are 30 years old\n"
     ]
    }
   ],
   "source": [
    "name = \" Echerem\"\n",
    "\n",
    "age = 30\n",
    "\n",
    "print('hi' + name + '.  You are ' + str(age) + ' years old')"
   ]
  },
  {
   "cell_type": "code",
   "execution_count": 17,
   "id": "c43ceec2",
   "metadata": {},
   "outputs": [
    {
     "name": "stdout",
     "output_type": "stream",
     "text": [
      "Hello Cindy, your balance is 50.\n",
      "Hello Cindy, your balance is 50.\n",
      "Hello Cindy, your balance is 50.\n",
      "Hello Cindy, your balance is 50.\n",
      "Hello Cindy, your balance is 50.\n"
     ]
    }
   ],
   "source": [
    "name = 'Cindy'\n",
    "amount = 50\n",
    "\n",
    "print(\"Hello {}, your balance is {}.\".format(\"Cindy\", 50))\n",
    "\n",
    "print(\"Hello {0}, your balance is {1}.\".format(\"Cindy\", 50))\n",
    "\n",
    "print(\"Hello {name}, your balance is {amount}.\".format(name='Cindy', amount=50))\n",
    "\n",
    "print(\"Hello {0}, your balance is {amount}.\".format(\"Cindy\", amount=50))\n",
    "\n",
    "print(f\"Hello {name}, your balance is {amount}.\")\n"
   ]
  },
  {
   "cell_type": "code",
   "execution_count": 20,
   "id": "80f161e3",
   "metadata": {},
   "outputs": [
    {
     "data": {
      "text/plain": [
       "12"
      ]
     },
     "execution_count": 20,
     "metadata": {},
     "output_type": "execute_result"
    }
   ],
   "source": [
    "2 * 5 + 2"
   ]
  },
  {
   "cell_type": "code",
   "execution_count": 31,
   "id": "a690b8db",
   "metadata": {},
   "outputs": [
    {
     "name": "stdout",
     "output_type": "stream",
     "text": [
      "Hat\n",
      "am\n"
     ]
    }
   ],
   "source": [
    "print('Hatred'[:3])\n",
    "print('yam'[1:100])"
   ]
  },
  {
   "cell_type": "code",
   "execution_count": 34,
   "id": "f159d2ed",
   "metadata": {},
   "outputs": [
    {
     "name": "stdout",
     "output_type": "stream",
     "text": [
      "True\n"
     ]
    }
   ],
   "source": [
    "print(10 == 10.0)"
   ]
  },
  {
   "cell_type": "code",
   "execution_count": 1,
   "id": "8f6ad4f8",
   "metadata": {},
   "outputs": [
    {
     "data": {
      "text/plain": [
       "True"
      ]
     },
     "execution_count": 1,
     "metadata": {},
     "output_type": "execute_result"
    }
   ],
   "source": [
    "10 <= 20"
   ]
  },
  {
   "cell_type": "code",
   "execution_count": 2,
   "id": "140c12a5",
   "metadata": {},
   "outputs": [
    {
     "data": {
      "text/plain": [
       "False"
      ]
     },
     "execution_count": 2,
     "metadata": {},
     "output_type": "execute_result"
    }
   ],
   "source": [
    "10 >= 20"
   ]
  },
  {
   "cell_type": "code",
   "execution_count": 3,
   "id": "ee835356",
   "metadata": {},
   "outputs": [
    {
     "data": {
      "text/plain": [
       "True"
      ]
     },
     "execution_count": 3,
     "metadata": {},
     "output_type": "execute_result"
    }
   ],
   "source": [
    "3 < 5"
   ]
  },
  {
   "cell_type": "code",
   "execution_count": 4,
   "id": "b04c49f5",
   "metadata": {},
   "outputs": [
    {
     "data": {
      "text/plain": [
       "False"
      ]
     },
     "execution_count": 4,
     "metadata": {},
     "output_type": "execute_result"
    }
   ],
   "source": [
    "3>5"
   ]
  },
  {
   "cell_type": "code",
   "execution_count": 5,
   "id": "a4023f80",
   "metadata": {},
   "outputs": [
    {
     "data": {
      "text/plain": [
       "True"
      ]
     },
     "execution_count": 5,
     "metadata": {},
     "output_type": "execute_result"
    }
   ],
   "source": [
    "3 < 5 and 10 <= 20"
   ]
  },
  {
   "cell_type": "code",
   "execution_count": 6,
   "id": "8ebd0a25",
   "metadata": {},
   "outputs": [
    {
     "data": {
      "text/plain": [
       "False"
      ]
     },
     "execution_count": 6,
     "metadata": {},
     "output_type": "execute_result"
    }
   ],
   "source": [
    "3 > 5 and 10 <=20"
   ]
  },
  {
   "cell_type": "code",
   "execution_count": 8,
   "id": "38f21852",
   "metadata": {},
   "outputs": [
    {
     "data": {
      "text/plain": [
       "True"
      ]
     },
     "execution_count": 8,
     "metadata": {},
     "output_type": "execute_result"
    }
   ],
   "source": [
    "True and not False"
   ]
  },
  {
   "cell_type": "code",
   "execution_count": 9,
   "id": "9adf94b8",
   "metadata": {},
   "outputs": [
    {
     "data": {
      "text/plain": [
       "False"
      ]
     },
     "execution_count": 9,
     "metadata": {},
     "output_type": "execute_result"
    }
   ],
   "source": [
    "False or not True and True"
   ]
  },
  {
   "cell_type": "code",
   "execution_count": 10,
   "id": "0bc258f8",
   "metadata": {},
   "outputs": [
    {
     "data": {
      "text/plain": [
       "True"
      ]
     },
     "execution_count": 10,
     "metadata": {},
     "output_type": "execute_result"
    }
   ],
   "source": [
    "True and not True or True"
   ]
  },
  {
   "cell_type": "code",
   "execution_count": 11,
   "id": "135f5849",
   "metadata": {},
   "outputs": [
    {
     "data": {
      "text/plain": [
       "True"
      ]
     },
     "execution_count": 11,
     "metadata": {},
     "output_type": "execute_result"
    }
   ],
   "source": [
    "True or False or False and True"
   ]
  },
  {
   "cell_type": "code",
   "execution_count": 13,
   "id": "6b41dc94",
   "metadata": {},
   "outputs": [
    {
     "name": "stdout",
     "output_type": "stream",
     "text": [
      "False\n"
     ]
    }
   ],
   "source": [
    "print('a' > 'b')"
   ]
  },
  {
   "cell_type": "code",
   "execution_count": 14,
   "id": "f1e1e2ff",
   "metadata": {},
   "outputs": [
    {
     "data": {
      "text/plain": [
       "False"
      ]
     },
     "execution_count": 14,
     "metadata": {},
     "output_type": "execute_result"
    }
   ],
   "source": [
    "'a' == 'b'"
   ]
  },
  {
   "cell_type": "code",
   "execution_count": 26,
   "id": "7d7fcfd3",
   "metadata": {},
   "outputs": [],
   "source": [
    "is_magician = False\n",
    "is_expert = True"
   ]
  },
  {
   "cell_type": "code",
   "execution_count": 27,
   "id": "5becfa83",
   "metadata": {},
   "outputs": [
    {
     "name": "stdout",
     "output_type": "stream",
     "text": [
      "You need more magic powers\n"
     ]
    }
   ],
   "source": [
    "if is_magician and is_expert:\n",
    "    print('You are a master magician') \n",
    "    \n",
    "if is_magician and not is_expert:\n",
    "    print('At least you are getting there')  \n",
    "    \n",
    "elif not is_magician:\n",
    "    print('You need more magic powers')    "
   ]
  },
  {
   "cell_type": "code",
   "execution_count": 28,
   "id": "ea717529",
   "metadata": {},
   "outputs": [],
   "source": [
    "is_fat = False\n",
    "is_short = True"
   ]
  },
  {
   "cell_type": "code",
   "execution_count": 32,
   "id": "40b87cb3",
   "metadata": {},
   "outputs": [
    {
     "name": "stdout",
     "output_type": "stream",
     "text": [
      "Wow that's good\n"
     ]
    }
   ],
   "source": [
    "if is_fat:\n",
    "    print('You need exercise')\n",
    "    \n",
    "else:\n",
    "    print(\"Wow that's good\")"
   ]
  },
  {
   "cell_type": "code",
   "execution_count": 33,
   "id": "34d56e76",
   "metadata": {},
   "outputs": [
    {
     "name": "stdout",
     "output_type": "stream",
     "text": [
      "You need more protein\n"
     ]
    }
   ],
   "source": [
    "if is_short:\n",
    "    print('You need more protein')\n",
    "    \n",
    "else:\n",
    "    print(\"You are all good\")"
   ]
  },
  {
   "cell_type": "code",
   "execution_count": 34,
   "id": "9e10d7c5",
   "metadata": {},
   "outputs": [
    {
     "name": "stdout",
     "output_type": "stream",
     "text": [
      "Yea\n"
     ]
    }
   ],
   "source": [
    "if 8 == 2*4:\n",
    "    print('Yea')\n",
    "    \n",
    "else:\n",
    "    print('No')"
   ]
  },
  {
   "cell_type": "code",
   "execution_count": 35,
   "id": "9067cca9",
   "metadata": {},
   "outputs": [
    {
     "name": "stdout",
     "output_type": "stream",
     "text": [
      "Case 2\n"
     ]
    }
   ],
   "source": [
    "x = 1\n",
    "if x > 3:\n",
    "    print('Case 1')\n",
    "if x <= 3:\n",
    "    print('Case 2')"
   ]
  },
  {
   "cell_type": "code",
   "execution_count": 46,
   "id": "ff9e561e",
   "metadata": {},
   "outputs": [],
   "source": [
    "def compare_to_five(y):\n",
    "    if y > 5:\n",
    "        return ('Greater!')\n",
    "    elif y < 0:\n",
    "        return ('less')\n",
    "    elif y < 5:\n",
    "        return ('Negative')\n",
    "    else:\n",
    "        return ('equal')"
   ]
  },
  {
   "cell_type": "code",
   "execution_count": 47,
   "id": "480d25e0",
   "metadata": {},
   "outputs": [
    {
     "name": "stdout",
     "output_type": "stream",
     "text": [
      "less\n"
     ]
    }
   ],
   "source": [
    "print(compare_to_five(-1))"
   ]
  },
  {
   "cell_type": "code",
   "execution_count": 48,
   "id": "8d7a2732",
   "metadata": {},
   "outputs": [
    {
     "name": "stdout",
     "output_type": "stream",
     "text": [
      "less\n"
     ]
    }
   ],
   "source": [
    "print(compare_to_five(-3))"
   ]
  },
  {
   "cell_type": "code",
   "execution_count": 49,
   "id": "0e7ab03c",
   "metadata": {},
   "outputs": [
    {
     "name": "stdout",
     "output_type": "stream",
     "text": [
      "Incorrect\n"
     ]
    }
   ],
   "source": [
    "x = 2\n",
    "\n",
    "if x > 4:\n",
    "    print('Correct')\n",
    "else:\n",
    "    print('Incorrect')"
   ]
  },
  {
   "cell_type": "code",
   "execution_count": 3,
   "id": "26b29da0",
   "metadata": {},
   "outputs": [
    {
     "name": "stdout",
     "output_type": "stream",
     "text": [
      "hellooo Taciturn\n"
     ]
    }
   ],
   "source": [
    "def say_hello(name):\n",
    "    print(f'hellooo {name}')\n",
    "    \n",
    "\n",
    "say_hello('Taciturn')    "
   ]
  },
  {
   "cell_type": "code",
   "execution_count": 4,
   "id": "b9ebcb9b",
   "metadata": {},
   "outputs": [
    {
     "data": {
      "text/plain": [
       "63"
      ]
     },
     "execution_count": 4,
     "metadata": {},
     "output_type": "execute_result"
    }
   ],
   "source": [
    "def multiply_by_even(c):\n",
    "    return c*9\n",
    "multiply_by_even(7)"
   ]
  },
  {
   "cell_type": "code",
   "execution_count": 6,
   "id": "5f2836ed",
   "metadata": {},
   "outputs": [
    {
     "data": {
      "text/plain": [
       "40"
      ]
     },
     "execution_count": 6,
     "metadata": {},
     "output_type": "execute_result"
    }
   ],
   "source": [
    "def sum(num1, num2):\n",
    "    result = num1 + num2\n",
    "    return result\n",
    "\n",
    "sum(10, 30)"
   ]
  },
  {
   "cell_type": "code",
   "execution_count": 12,
   "id": "d157bfde",
   "metadata": {},
   "outputs": [
    {
     "data": {
      "text/plain": [
       "30"
      ]
     },
     "execution_count": 12,
     "metadata": {},
     "output_type": "execute_result"
    }
   ],
   "source": [
    "def sum_number(s):\n",
    "    return s + 5\n",
    "\n",
    "def multiply_num(s):\n",
    "    return sum_number(s) * 3\n",
    "\n",
    "multiply_num(5)"
   ]
  },
  {
   "cell_type": "code",
   "execution_count": 11,
   "id": "0146f0bb",
   "metadata": {},
   "outputs": [
    {
     "data": {
      "text/plain": [
       "(10, 30)"
      ]
     },
     "execution_count": 11,
     "metadata": {},
     "output_type": "execute_result"
    }
   ],
   "source": [
    "def plus_5(z):\n",
    "    return z +5\n",
    "def m_by_3(z):\n",
    "    return plus_5(z) * 3\n",
    "plus_5(5), m_by_3(5)"
   ]
  },
  {
   "cell_type": "code",
   "execution_count": 13,
   "id": "c9e4da6e",
   "metadata": {},
   "outputs": [
    {
     "name": "stdout",
     "output_type": "stream",
     "text": [
      "What is your age?: 10\n",
      "Sorry, you are too young to drive this car. Powering off\n"
     ]
    }
   ],
   "source": [
    "age = input(\"What is your age?: \")\n",
    "\n",
    "if int(age) < 18:\n",
    "\tprint(\"Sorry, you are too young to drive this car. Powering off\")\n",
    "elif int(age) > 18:\n",
    "\tprint(\"Powering On. Enjoy the ride!\");\n",
    "elif int(age) == 18:\n",
    "\tprint(\"Congratulations on your first year of driving. Enjoy the ride!\")\n",
    "\n",
    "#1. Wrap the above code in a function called checkDriverAge(). Whenever you call this function, you will get prompted for age. \n",
    "# Notice the benefit in having checkDriverAge() instead of copying and pasting the function everytime?\n",
    "\n",
    "#2 Instead of using the input(). Now, make the checkDriverAge() function accept an argument of age, so that if you enter:\n",
    "#checkDriverAge(92);\n",
    "#it returns \"Powering On. Enjoy the ride!\"\n",
    "#also make it so that the default age is set to 0 if no argument is given."
   ]
  },
  {
   "cell_type": "code",
   "execution_count": 1,
   "id": "a082f2b5",
   "metadata": {},
   "outputs": [
    {
     "name": "stdout",
     "output_type": "stream",
     "text": [
      "Sorry, you are too young to drive this car. Powering off\n"
     ]
    }
   ],
   "source": [
    "def checkDriveAge(age=0):\n",
    "    if int(age) < 18:\n",
    "        print('Sorry, you are too young to drive this car. Powering off')\n",
    "    \n",
    "    elif int(age) > 18:\n",
    "        print('Powering On. Enjoy the ride!')\n",
    "    \n",
    "    \n",
    "    elif checkDriveAge(age) == 18:\n",
    "        print('Congratulations on your first year of driving. Enjoy the ride!')\n",
    "        \n",
    "    \n",
    "checkDriveAge(1)"
   ]
  },
  {
   "cell_type": "code",
   "execution_count": 2,
   "id": "bb860d83",
   "metadata": {},
   "outputs": [
    {
     "name": "stdout",
     "output_type": "stream",
     "text": [
      "Powering On. Enjoy the ride!\n"
     ]
    }
   ],
   "source": [
    "checkDriveAge(26)"
   ]
  },
  {
   "cell_type": "code",
   "execution_count": 3,
   "id": "1a49c34d",
   "metadata": {},
   "outputs": [
    {
     "name": "stdout",
     "output_type": "stream",
     "text": [
      "Powering On. Enjoy the ride!\n"
     ]
    }
   ],
   "source": [
    "checkDriveAge(90)"
   ]
  },
  {
   "cell_type": "code",
   "execution_count": 4,
   "id": "285443e6",
   "metadata": {},
   "outputs": [
    {
     "name": "stdout",
     "output_type": "stream",
     "text": [
      "Sorry, you are too young to drive this car. Powering off\n"
     ]
    }
   ],
   "source": [
    "checkDriveAge(8)"
   ]
  },
  {
   "cell_type": "code",
   "execution_count": 10,
   "id": "e72fc422",
   "metadata": {},
   "outputs": [
    {
     "name": "stdout",
     "output_type": "stream",
     "text": [
      "Less\n"
     ]
    }
   ],
   "source": [
    "def compare_the_two(a,b):\n",
    "    if a > b:\n",
    "        print('Greater')\n",
    "    elif a < b:\n",
    "        print('Less')\n",
    "    else:\n",
    "        print('Equal')\n",
    "        \n",
    "compare_the_two(1,10)"
   ]
  },
  {
   "cell_type": "code",
   "execution_count": 11,
   "id": "1774031f",
   "metadata": {},
   "outputs": [
    {
     "data": {
      "text/plain": [
       "890"
      ]
     },
     "execution_count": 11,
     "metadata": {},
     "output_type": "execute_result"
    }
   ],
   "source": [
    "max(25, 65, 890, 15)"
   ]
  },
  {
   "cell_type": "code",
   "execution_count": 12,
   "id": "0cf1e7c7",
   "metadata": {},
   "outputs": [
    {
     "data": {
      "text/plain": [
       "15"
      ]
     },
     "execution_count": 12,
     "metadata": {},
     "output_type": "execute_result"
    }
   ],
   "source": [
    "min(25, 65, 890, 15)"
   ]
  },
  {
   "cell_type": "code",
   "execution_count": 13,
   "id": "ffed4793",
   "metadata": {},
   "outputs": [
    {
     "data": {
      "text/plain": [
       "100"
      ]
     },
     "execution_count": 13,
     "metadata": {},
     "output_type": "execute_result"
    }
   ],
   "source": [
    "abs(-100)"
   ]
  },
  {
   "cell_type": "code",
   "execution_count": 15,
   "id": "99be2dc2",
   "metadata": {},
   "outputs": [
    {
     "data": {
      "text/plain": [
       "56"
      ]
     },
     "execution_count": 15,
     "metadata": {},
     "output_type": "execute_result"
    }
   ],
   "source": [
    "round(float(55.5))"
   ]
  },
  {
   "cell_type": "code",
   "execution_count": 16,
   "id": "cf7efa7a",
   "metadata": {},
   "outputs": [
    {
     "data": {
      "text/plain": [
       "35.568"
      ]
     },
     "execution_count": 16,
     "metadata": {},
     "output_type": "execute_result"
    }
   ],
   "source": [
    "round(35.56789,3)"
   ]
  },
  {
   "cell_type": "code",
   "execution_count": 18,
   "id": "731738a7",
   "metadata": {},
   "outputs": [
    {
     "data": {
      "text/plain": [
       "94.5"
      ]
     },
     "execution_count": 18,
     "metadata": {},
     "output_type": "execute_result"
    }
   ],
   "source": [
    "Numbers = [1, 5, 64, 24.5]\n",
    "sum(Numbers)"
   ]
  },
  {
   "cell_type": "code",
   "execution_count": 19,
   "id": "66cacefa",
   "metadata": {},
   "outputs": [
    {
     "data": {
      "text/plain": [
       "1000"
      ]
     },
     "execution_count": 19,
     "metadata": {},
     "output_type": "execute_result"
    }
   ],
   "source": [
    "pow(10,3)"
   ]
  },
  {
   "cell_type": "code",
   "execution_count": 20,
   "id": "b0fbcc3a",
   "metadata": {},
   "outputs": [
    {
     "data": {
      "text/plain": [
       "1000"
      ]
     },
     "execution_count": 20,
     "metadata": {},
     "output_type": "execute_result"
    }
   ],
   "source": [
    "10**3"
   ]
  },
  {
   "cell_type": "code",
   "execution_count": 22,
   "id": "e8735e62",
   "metadata": {},
   "outputs": [
    {
     "data": {
      "text/plain": [
       "8"
      ]
     },
     "execution_count": 22,
     "metadata": {},
     "output_type": "execute_result"
    }
   ],
   "source": [
    "len('Elephant')"
   ]
  },
  {
   "cell_type": "code",
   "execution_count": 23,
   "id": "5981a951",
   "metadata": {},
   "outputs": [
    {
     "data": {
      "text/plain": [
       "10"
      ]
     },
     "execution_count": 23,
     "metadata": {},
     "output_type": "execute_result"
    }
   ],
   "source": [
    "def distance_from_zero(x):\n",
    "    if type(x) == int or type(x) == float:\n",
    "        return abs(x)\n",
    "    else:\n",
    "        print (\"Not possible\")\n",
    "distance_from_zero(-10)"
   ]
  },
  {
   "cell_type": "code",
   "execution_count": 25,
   "id": "32454753",
   "metadata": {},
   "outputs": [
    {
     "name": "stdout",
     "output_type": "stream",
     "text": [
      "Not possible\n"
     ]
    }
   ],
   "source": [
    "distance_from_zero('cat')"
   ]
  },
  {
   "cell_type": "code",
   "execution_count": 2,
   "id": "7bbcf580",
   "metadata": {},
   "outputs": [
    {
     "data": {
      "text/plain": [
       "['Joe', 'Kay', 'Uriel', 'Tacy', 'Dame', 'Joy']"
      ]
     },
     "execution_count": 2,
     "metadata": {},
     "output_type": "execute_result"
    }
   ],
   "source": [
    "Participants = ['Joe','Kay', 'Uriel', 'Tacy', 'Dame', 'Joy']\n",
    "Participants"
   ]
  },
  {
   "cell_type": "code",
   "execution_count": 3,
   "id": "567e6543",
   "metadata": {},
   "outputs": [
    {
     "data": {
      "text/plain": [
       "'Dame'"
      ]
     },
     "execution_count": 3,
     "metadata": {},
     "output_type": "execute_result"
    }
   ],
   "source": [
    "Participants[4]"
   ]
  },
  {
   "cell_type": "code",
   "execution_count": 4,
   "id": "c71b0cb5",
   "metadata": {},
   "outputs": [
    {
     "data": {
      "text/plain": [
       "['Joe', 'Jay', 'Uriel', 'Tacy', 'Dame', 'Joy']"
      ]
     },
     "execution_count": 4,
     "metadata": {},
     "output_type": "execute_result"
    }
   ],
   "source": [
    "Participants[1] = 'Jay'\n",
    "Participants"
   ]
  },
  {
   "cell_type": "code",
   "execution_count": 5,
   "id": "08d9b86a",
   "metadata": {},
   "outputs": [
    {
     "data": {
      "text/plain": [
       "['Joe', 'Jay', 'Uriel', 'Tacy', 'Dame']"
      ]
     },
     "execution_count": 5,
     "metadata": {},
     "output_type": "execute_result"
    }
   ],
   "source": [
    "del Participants[5]\n",
    "Participants"
   ]
  },
  {
   "cell_type": "code",
   "execution_count": 6,
   "id": "7997d56b",
   "metadata": {},
   "outputs": [
    {
     "data": {
      "text/plain": [
       "['Joe', 'Jay', 'Uriel', 'Tacy', 'Dame', 'Jake']"
      ]
     },
     "execution_count": 6,
     "metadata": {},
     "output_type": "execute_result"
    }
   ],
   "source": [
    "Participants.append('Jake')\n",
    "Participants"
   ]
  },
  {
   "cell_type": "code",
   "execution_count": 16,
   "id": "da2d2078",
   "metadata": {},
   "outputs": [
    {
     "data": {
      "text/plain": [
       "['Joe',\n",
       " 'Jay',\n",
       " 'Uriel',\n",
       " 'Tacy',\n",
       " 'Dame',\n",
       " 'Jake',\n",
       " 'Promise',\n",
       " 'John',\n",
       " 'Promise',\n",
       " 'John',\n",
       " 'Jay']"
      ]
     },
     "execution_count": 16,
     "metadata": {},
     "output_type": "execute_result"
    }
   ],
   "source": [
    "Participants.extend(['Promise', 'John', 'Jay'])\n",
    "Participants"
   ]
  },
  {
   "cell_type": "code",
   "execution_count": 36,
   "id": "42c67c1b",
   "metadata": {},
   "outputs": [
    {
     "name": "stdout",
     "output_type": "stream",
     "text": [
      "The first participant is Tacy\n"
     ]
    }
   ],
   "source": [
    "print(f'The first participant is {Participants[3]}')"
   ]
  },
  {
   "cell_type": "code",
   "execution_count": 8,
   "id": "b8d31a08",
   "metadata": {},
   "outputs": [
    {
     "data": {
      "text/plain": [
       "8"
      ]
     },
     "execution_count": 8,
     "metadata": {},
     "output_type": "execute_result"
    }
   ],
   "source": [
    "len(Participants)"
   ]
  },
  {
   "cell_type": "code",
   "execution_count": 17,
   "id": "af0fcad2",
   "metadata": {},
   "outputs": [
    {
     "data": {
      "text/plain": [
       "2"
      ]
     },
     "execution_count": 17,
     "metadata": {},
     "output_type": "execute_result"
    }
   ],
   "source": [
    "Participants.count('Jay')"
   ]
  },
  {
   "cell_type": "code",
   "execution_count": 14,
   "id": "73bf083c",
   "metadata": {},
   "outputs": [
    {
     "name": "stdout",
     "output_type": "stream",
     "text": [
      "1\n"
     ]
    }
   ],
   "source": [
    "fruits = [\"apple\", \"banana\", \"cherry\"]\n",
    "\n",
    "x = fruits.count(\"cherry\")\n",
    "\n",
    "print(x)"
   ]
  },
  {
   "cell_type": "code",
   "execution_count": 19,
   "id": "29d6d150",
   "metadata": {},
   "outputs": [
    {
     "data": {
      "text/plain": [
       "['Joe',\n",
       " 'Jay',\n",
       " 'Uriel',\n",
       " 'Tacy',\n",
       " 'Dame',\n",
       " 'Jake',\n",
       " 'Promise',\n",
       " 'John',\n",
       " 'Promise',\n",
       " 'John',\n",
       " 'Jay']"
      ]
     },
     "execution_count": 19,
     "metadata": {},
     "output_type": "execute_result"
    }
   ],
   "source": [
    "Participants"
   ]
  },
  {
   "cell_type": "code",
   "execution_count": 21,
   "id": "9b20cb8d",
   "metadata": {},
   "outputs": [
    {
     "data": {
      "text/plain": [
       "['Dame',\n",
       " 'Jake',\n",
       " 'Jay',\n",
       " 'Jay',\n",
       " 'Joe',\n",
       " 'John',\n",
       " 'John',\n",
       " 'Promise',\n",
       " 'Promise',\n",
       " 'Tacy',\n",
       " 'Uriel']"
      ]
     },
     "execution_count": 21,
     "metadata": {},
     "output_type": "execute_result"
    }
   ],
   "source": [
    "Participants.sort()\n",
    "Participants"
   ]
  },
  {
   "cell_type": "code",
   "execution_count": 22,
   "id": "5c181186",
   "metadata": {},
   "outputs": [
    {
     "data": {
      "text/plain": [
       "['Uriel',\n",
       " 'Tacy',\n",
       " 'Promise',\n",
       " 'Promise',\n",
       " 'John',\n",
       " 'John',\n",
       " 'Joe',\n",
       " 'Jay',\n",
       " 'Jay',\n",
       " 'Jake',\n",
       " 'Dame']"
      ]
     },
     "execution_count": 22,
     "metadata": {},
     "output_type": "execute_result"
    }
   ],
   "source": [
    "Participants.sort(reverse=True)\n",
    "Participants"
   ]
  },
  {
   "cell_type": "code",
   "execution_count": 23,
   "id": "71182d39",
   "metadata": {},
   "outputs": [
    {
     "data": {
      "text/plain": [
       "['Uriel',\n",
       " 'Tacy',\n",
       " 'Promise',\n",
       " 'Promise',\n",
       " 'John',\n",
       " 'John',\n",
       " 'Joe',\n",
       " 'Jay',\n",
       " 'Jay',\n",
       " 'Jake',\n",
       " 'Dame']"
      ]
     },
     "execution_count": 23,
     "metadata": {},
     "output_type": "execute_result"
    }
   ],
   "source": [
    "Participants"
   ]
  },
  {
   "cell_type": "code",
   "execution_count": 27,
   "id": "0f02dd05",
   "metadata": {},
   "outputs": [
    {
     "data": {
      "text/plain": [
       "['Uriel',\n",
       " 'Tacy',\n",
       " 'Promise',\n",
       " 'John',\n",
       " 'John',\n",
       " 'Joe',\n",
       " 'Jay',\n",
       " 'Jay',\n",
       " 'Jake',\n",
       " 'Dame']"
      ]
     },
     "execution_count": 27,
     "metadata": {},
     "output_type": "execute_result"
    }
   ],
   "source": [
    "\n",
    "Participants"
   ]
  },
  {
   "cell_type": "code",
   "execution_count": 32,
   "id": "8916d3c3",
   "metadata": {},
   "outputs": [
    {
     "data": {
      "text/plain": [
       "'Jay'"
      ]
     },
     "execution_count": 32,
     "metadata": {},
     "output_type": "execute_result"
    }
   ],
   "source": [
    "Participants.pop(5)"
   ]
  },
  {
   "cell_type": "code",
   "execution_count": 33,
   "id": "94fa7387",
   "metadata": {},
   "outputs": [
    {
     "data": {
      "text/plain": [
       "['Uriel', 'Tacy', 'Promise', 'John', 'Joe', 'Jay', 'Dame']"
      ]
     },
     "execution_count": 33,
     "metadata": {},
     "output_type": "execute_result"
    }
   ],
   "source": [
    "Participants"
   ]
  },
  {
   "cell_type": "code",
   "execution_count": 35,
   "id": "082a865f",
   "metadata": {},
   "outputs": [
    {
     "name": "stdout",
     "output_type": "stream",
     "text": [
      "b\n",
      "b\n",
      "['b', 'c']\n",
      "['z', 'b', 'c']\n"
     ]
    }
   ],
   "source": [
    "#What is the output of this code?\n",
    "#Before you clikc RUN, guess the output of each print statement!\n",
    "new_list = ['a', 'b', 'c']\n",
    "print(new_list[1])\n",
    "print(new_list[-2])\n",
    "print(new_list[1:3])\n",
    "new_list[0] = 'z'\n",
    "print(new_list)"
   ]
  },
  {
   "cell_type": "code",
   "execution_count": 36,
   "id": "433315f6",
   "metadata": {},
   "outputs": [
    {
     "name": "stdout",
     "output_type": "stream",
     "text": [
      "['z', 2, 3]\n",
      "[1, 2, 3, 5]\n"
     ]
    }
   ],
   "source": [
    "my_list = [1,2,3]\n",
    "bonus = my_list + [5]\n",
    "my_list[0] = 'z'\n",
    "print(my_list)\n",
    "print(bonus)"
   ]
  },
  {
   "cell_type": "code",
   "execution_count": 37,
   "id": "d130a794",
   "metadata": {},
   "outputs": [],
   "source": [
    "Numbers = [15, 40, 50, 100, 115, 140]"
   ]
  },
  {
   "cell_type": "code",
   "execution_count": 38,
   "id": "d6647478",
   "metadata": {},
   "outputs": [
    {
     "data": {
      "text/plain": [
       "[100, 115]"
      ]
     },
     "execution_count": 38,
     "metadata": {},
     "output_type": "execute_result"
    }
   ],
   "source": [
    "Numbers[3:5]"
   ]
  },
  {
   "cell_type": "code",
   "execution_count": 40,
   "id": "3113bb7f",
   "metadata": {},
   "outputs": [
    {
     "data": {
      "text/plain": [
       "[15, 40, 50, 100]"
      ]
     },
     "execution_count": 40,
     "metadata": {},
     "output_type": "execute_result"
    }
   ],
   "source": [
    "Numbers[:4]"
   ]
  },
  {
   "cell_type": "code",
   "execution_count": 41,
   "id": "c5545133",
   "metadata": {},
   "outputs": [
    {
     "data": {
      "text/plain": [
       "[100, 115, 140]"
      ]
     },
     "execution_count": 41,
     "metadata": {},
     "output_type": "execute_result"
    }
   ],
   "source": [
    "Numbers[3:]"
   ]
  },
  {
   "cell_type": "code",
   "execution_count": 42,
   "id": "f53ddba6",
   "metadata": {},
   "outputs": [
    {
     "data": {
      "text/plain": [
       "[15, 40, 50]"
      ]
     },
     "execution_count": 42,
     "metadata": {},
     "output_type": "execute_result"
    }
   ],
   "source": [
    "Numbers[:3]"
   ]
  },
  {
   "cell_type": "code",
   "execution_count": 44,
   "id": "d0bcce6a",
   "metadata": {},
   "outputs": [
    {
     "data": {
      "text/plain": [
       "[50, 100, 115, 140]"
      ]
     },
     "execution_count": 44,
     "metadata": {},
     "output_type": "execute_result"
    }
   ],
   "source": [
    "Numbers[2:]"
   ]
  },
  {
   "cell_type": "code",
   "execution_count": 48,
   "id": "651d989b",
   "metadata": {},
   "outputs": [
    {
     "data": {
      "text/plain": [
       "[15, 40, 50, 100, 115, 140]"
      ]
     },
     "execution_count": 48,
     "metadata": {},
     "output_type": "execute_result"
    }
   ],
   "source": [
    "Numbers"
   ]
  },
  {
   "cell_type": "code",
   "execution_count": 50,
   "id": "cd3b99ef",
   "metadata": {},
   "outputs": [
    {
     "data": {
      "text/plain": [
       "0"
      ]
     },
     "execution_count": 50,
     "metadata": {},
     "output_type": "execute_result"
    }
   ],
   "source": [
    "Numbers.index(15)"
   ]
  },
  {
   "cell_type": "code",
   "execution_count": 51,
   "id": "92f02ff9",
   "metadata": {},
   "outputs": [],
   "source": [
    "#Create a list, called \"Two_Numbers\". Let its elements be the values 1 and 2. \n",
    "#Then, create a new one, named \"All_Numbers\", that will containt both the \"Numbers\" and the \"Two_Numbers\" lists. "
   ]
  },
  {
   "cell_type": "code",
   "execution_count": 54,
   "id": "4f8c62db",
   "metadata": {},
   "outputs": [
    {
     "data": {
      "text/plain": [
       "'NumbersTwo_Numbers'"
      ]
     },
     "execution_count": 54,
     "metadata": {},
     "output_type": "execute_result"
    }
   ],
   "source": [
    "Two_numbers = [1, 2]\n",
    "def All_numbers():\n",
    "    return 'Numbers' + 'Two_Numbers'\n",
    "All_numbers()"
   ]
  },
  {
   "cell_type": "code",
   "execution_count": 55,
   "id": "4a179513",
   "metadata": {},
   "outputs": [
    {
     "data": {
      "text/plain": [
       "[1, 2]"
      ]
     },
     "execution_count": 55,
     "metadata": {},
     "output_type": "execute_result"
    }
   ],
   "source": [
    "Numbers\n",
    "Two_numbers"
   ]
  },
  {
   "cell_type": "code",
   "execution_count": 56,
   "id": "2acbb66c",
   "metadata": {},
   "outputs": [
    {
     "data": {
      "text/plain": [
       "[15, 40, 50, 100, 115, 140]"
      ]
     },
     "execution_count": 56,
     "metadata": {},
     "output_type": "execute_result"
    }
   ],
   "source": [
    "Numbers"
   ]
  },
  {
   "cell_type": "code",
   "execution_count": 74,
   "id": "7fd1d154",
   "metadata": {},
   "outputs": [
    {
     "data": {
      "text/plain": [
       "([1, 2], [15, 40, 50, 100, 115, 140])"
      ]
     },
     "execution_count": 74,
     "metadata": {},
     "output_type": "execute_result"
    }
   ],
   "source": [
    "All_numbers = (Two_numbers, Numbers)\n",
    "All_numbers"
   ]
  },
  {
   "cell_type": "code",
   "execution_count": 59,
   "id": "0365ae94",
   "metadata": {},
   "outputs": [
    {
     "data": {
      "text/plain": [
       "[15, 40, 50, 100, 115, 140, [1, 2], [1, 2]]"
      ]
     },
     "execution_count": 59,
     "metadata": {},
     "output_type": "execute_result"
    }
   ],
   "source": [
    "Numbers.append(Two_numbers)\n",
    "Numbers"
   ]
  },
  {
   "cell_type": "code",
   "execution_count": 63,
   "id": "ed9cf073",
   "metadata": {},
   "outputs": [
    {
     "data": {
      "text/plain": [
       "[1, 2]"
      ]
     },
     "execution_count": 63,
     "metadata": {},
     "output_type": "execute_result"
    }
   ],
   "source": [
    "Two_numbers"
   ]
  },
  {
   "cell_type": "code",
   "execution_count": 67,
   "id": "797008f4",
   "metadata": {},
   "outputs": [
    {
     "data": {
      "text/plain": [
       "[1, 2]"
      ]
     },
     "execution_count": 67,
     "metadata": {},
     "output_type": "execute_result"
    }
   ],
   "source": [
    "Numbers.pop(6)"
   ]
  },
  {
   "cell_type": "code",
   "execution_count": 69,
   "id": "e3a09200",
   "metadata": {},
   "outputs": [
    {
     "data": {
      "text/plain": [
       "[1, 2]"
      ]
     },
     "execution_count": 69,
     "metadata": {},
     "output_type": "execute_result"
    }
   ],
   "source": [
    "Numbers.pop(6)"
   ]
  },
  {
   "cell_type": "code",
   "execution_count": 70,
   "id": "2aaeb632",
   "metadata": {},
   "outputs": [
    {
     "data": {
      "text/plain": [
       "[15, 40, 50, 100, 115, 140]"
      ]
     },
     "execution_count": 70,
     "metadata": {},
     "output_type": "execute_result"
    }
   ],
   "source": [
    "Numbers"
   ]
  },
  {
   "cell_type": "code",
   "execution_count": 77,
   "id": "d3dac55d",
   "metadata": {},
   "outputs": [
    {
     "data": {
      "text/plain": [
       "[140, 115, 100, 50, 40, 15]"
      ]
     },
     "execution_count": 77,
     "metadata": {},
     "output_type": "execute_result"
    }
   ],
   "source": [
    "Numbers.sort(reverse=True)\n",
    "Numbers"
   ]
  },
  {
   "cell_type": "code",
   "execution_count": 1,
   "id": "432244f3",
   "metadata": {},
   "outputs": [
    {
     "data": {
      "text/plain": [
       "(1, 2, 3, 4)"
      ]
     },
     "execution_count": 1,
     "metadata": {},
     "output_type": "execute_result"
    }
   ],
   "source": [
    "a = 1, 2, 3, 4\n",
    "a"
   ]
  },
  {
   "cell_type": "code",
   "execution_count": 2,
   "id": "014a24c8",
   "metadata": {},
   "outputs": [
    {
     "data": {
      "text/plain": [
       "(10, 20, 30, 40)"
      ]
     },
     "execution_count": 2,
     "metadata": {},
     "output_type": "execute_result"
    }
   ],
   "source": [
    "b = 10, 20, 30, 40\n",
    "b"
   ]
  },
  {
   "cell_type": "code",
   "execution_count": 3,
   "id": "8689ff53",
   "metadata": {},
   "outputs": [
    {
     "data": {
      "text/plain": [
       "[(1, 2, 3, 4), (10, 20, 30, 40)]"
      ]
     },
     "execution_count": 3,
     "metadata": {},
     "output_type": "execute_result"
    }
   ],
   "source": [
    "list_1 = [a, b]\n",
    "list_1"
   ]
  },
  {
   "cell_type": "code",
   "execution_count": 6,
   "id": "7d038bd4",
   "metadata": {},
   "outputs": [
    {
     "name": "stdout",
     "output_type": "stream",
     "text": [
      "30\n",
      "12\n"
     ]
    }
   ],
   "source": [
    "(age, years_of_marriage) = '30,12'.split(',')\n",
    "print(age)\n",
    "print(years_of_marriage)"
   ]
  },
  {
   "cell_type": "code",
   "execution_count": 9,
   "id": "024c81fe",
   "metadata": {},
   "outputs": [
    {
     "name": "stdout",
     "output_type": "stream",
     "text": [
      "Area and Perimeter:\n"
     ]
    },
    {
     "data": {
      "text/plain": [
       "(16, 20)"
      ]
     },
     "execution_count": 9,
     "metadata": {},
     "output_type": "execute_result"
    }
   ],
   "source": [
    "def square_info(r):\n",
    "    A = r ** 2\n",
    "    P = 5 * r\n",
    "    print('Area and Perimeter:')\n",
    "    return A,P\n",
    "square_info(4)"
   ]
  },
  {
   "cell_type": "code",
   "execution_count": 10,
   "id": "75042e2d",
   "metadata": {},
   "outputs": [
    {
     "data": {
      "text/plain": [
       "('BMW', 'Dodge', 'Ford')"
      ]
     },
     "execution_count": 10,
     "metadata": {},
     "output_type": "execute_result"
    }
   ],
   "source": [
    "cars = 'BMW', 'Dodge', 'Ford'\n",
    "cars"
   ]
  },
  {
   "cell_type": "code",
   "execution_count": 15,
   "id": "b5042c04",
   "metadata": {},
   "outputs": [
    {
     "data": {
      "text/plain": [
       "'Dodge'"
      ]
     },
     "execution_count": 15,
     "metadata": {},
     "output_type": "execute_result"
    }
   ],
   "source": [
    "cars[1]"
   ]
  },
  {
   "cell_type": "code",
   "execution_count": 12,
   "id": "33328aae",
   "metadata": {},
   "outputs": [
    {
     "name": "stdout",
     "output_type": "stream",
     "text": [
      "Tacy\n",
      "30\n"
     ]
    }
   ],
   "source": [
    "name, age = 'Tacy,30'.split(',')\n",
    "print(name)\n",
    "print(age)"
   ]
  },
  {
   "cell_type": "code",
   "execution_count": 14,
   "id": "f9c574b4",
   "metadata": {},
   "outputs": [
    {
     "name": "stdout",
     "output_type": "stream",
     "text": [
      "Area and Perimeter:\n"
     ]
    },
    {
     "data": {
      "text/plain": [
       "(20, 24)"
      ]
     },
     "execution_count": 14,
     "metadata": {},
     "output_type": "execute_result"
    }
   ],
   "source": [
    "def rec_info(l,w):\n",
    "    A = l*w\n",
    "    P = 2*(l+w)\n",
    "    print('Area and Perimeter:')\n",
    "    return A,P\n",
    "rec_info(2,10)"
   ]
  },
  {
   "cell_type": "code",
   "execution_count": 16,
   "id": "6f8035d9",
   "metadata": {},
   "outputs": [
    {
     "data": {
      "text/plain": [
       "{'a': 'Mango', 'b': 'Orange', 'c': 'Pear', 'd': 'Paw-paw'}"
      ]
     },
     "execution_count": 16,
     "metadata": {},
     "output_type": "execute_result"
    }
   ],
   "source": [
    "fruits = {'a': 'Mango', 'b': 'Orange', 'c': 'Pear', 'd': 'Paw-paw'}\n",
    "fruits"
   ]
  },
  {
   "cell_type": "code",
   "execution_count": 17,
   "id": "2fa86c85",
   "metadata": {},
   "outputs": [
    {
     "data": {
      "text/plain": [
       "{'a': 'Mango', 'b': 'Orange', 'c': 'Pear', 'd': 'Paw-paw', 'e': 'Pineapple'}"
      ]
     },
     "execution_count": 17,
     "metadata": {},
     "output_type": "execute_result"
    }
   ],
   "source": [
    "fruits.update({'e': 'Pineapple'})\n",
    "fruits"
   ]
  },
  {
   "cell_type": "code",
   "execution_count": 19,
   "id": "a2e567bd",
   "metadata": {},
   "outputs": [
    {
     "data": {
      "text/plain": [
       "{'a': 'Mango',\n",
       " 'b': 'Orange',\n",
       " 'c': 'Pear',\n",
       " 'd': 'Paw-paw',\n",
       " 'e': 'Pineapple',\n",
       " 'f': 'Lemon'}"
      ]
     },
     "execution_count": 19,
     "metadata": {},
     "output_type": "execute_result"
    }
   ],
   "source": [
    "fruits['f'] = 'Lemon'\n",
    "fruits"
   ]
  },
  {
   "cell_type": "code",
   "execution_count": 20,
   "id": "6d6ad8ce",
   "metadata": {},
   "outputs": [
    {
     "data": {
      "text/plain": [
       "{'a': 'Mango',\n",
       " 'b': 'Orange',\n",
       " 'c': 'Pear',\n",
       " 'd': 'Apple',\n",
       " 'e': 'Pineapple',\n",
       " 'f': 'Lemon'}"
      ]
     },
     "execution_count": 20,
     "metadata": {},
     "output_type": "execute_result"
    }
   ],
   "source": [
    "fruits.update({'d': 'Apple'})\n",
    "fruits"
   ]
  },
  {
   "cell_type": "code",
   "execution_count": 26,
   "id": "193364fe",
   "metadata": {},
   "outputs": [
    {
     "data": {
      "text/plain": [
       "['Stacy', 'Alex', 'Kim', 'Tacy']"
      ]
     },
     "execution_count": 26,
     "metadata": {},
     "output_type": "execute_result"
    }
   ],
   "source": [
    "Office = {'inv_dept': ['Mike', 'Jerry', 'Alice'], 'R and D': ['Stacy', 'Alex', 'Kim', 'Tacy']}\n",
    "Office['R and D']"
   ]
  },
  {
   "cell_type": "code",
   "execution_count": 28,
   "id": "f66f6577",
   "metadata": {},
   "outputs": [
    {
     "data": {
      "text/plain": [
       "{'meal_1': 'Spaghetti',\n",
       " 'meal_2': 'Fries',\n",
       " 'meal_3': 'Hamburger',\n",
       " 'meal_4': 'Lasagna'}"
      ]
     },
     "execution_count": 28,
     "metadata": {},
     "output_type": "execute_result"
    }
   ],
   "source": [
    "Menu = {'meal_1':'Spaghetti', 'meal_2':'Fries', 'meal_3':'Hamburger', 'meal_4':'Lasagna'}\n",
    "Menu"
   ]
  },
  {
   "cell_type": "code",
   "execution_count": 31,
   "id": "368bd64a",
   "metadata": {},
   "outputs": [
    {
     "data": {
      "text/plain": [
       "'Fries'"
      ]
     },
     "execution_count": 31,
     "metadata": {},
     "output_type": "execute_result"
    }
   ],
   "source": [
    "Menu['meal_2']\n"
   ]
  },
  {
   "cell_type": "code",
   "execution_count": 34,
   "id": "5c03441f",
   "metadata": {},
   "outputs": [
    {
     "data": {
      "text/plain": [
       "{'meal_1': 'Spaghetti',\n",
       " 'meal_2': 'Fries',\n",
       " 'meal_3': 'Hamburger',\n",
       " 'meal_4': 'Lasagna',\n",
       " 'meal_5': 'Soup'}"
      ]
     },
     "execution_count": 34,
     "metadata": {},
     "output_type": "execute_result"
    }
   ],
   "source": [
    "Menu.update({'meal_5': 'Soup'})\n",
    "Menu"
   ]
  },
  {
   "cell_type": "code",
   "execution_count": 35,
   "id": "87940405",
   "metadata": {},
   "outputs": [
    {
     "data": {
      "text/plain": [
       "{'meal_1': 'Spaghetti',\n",
       " 'meal_2': 'Fries',\n",
       " 'meal_3': 'Cheeseburger',\n",
       " 'meal_4': 'Lasagna',\n",
       " 'meal_5': 'Soup'}"
      ]
     },
     "execution_count": 35,
     "metadata": {},
     "output_type": "execute_result"
    }
   ],
   "source": [
    "Menu.update({'meal_3': 'Cheeseburger'})\n",
    "Menu"
   ]
  },
  {
   "cell_type": "code",
   "execution_count": 37,
   "id": "1fabd2be",
   "metadata": {},
   "outputs": [
    {
     "data": {
      "text/plain": [
       "{'meal_1': 'Spaghetti',\n",
       " 'meal_2': 'Fries',\n",
       " 'meal_3': 'Cheeseburger',\n",
       " 'meal_4': 'Lasagna',\n",
       " 'meal_5': 'Soup',\n",
       " 'meal_6': ['Pancakes', 'Ice-cream', 'Tiramisu']}"
      ]
     },
     "execution_count": 37,
     "metadata": {},
     "output_type": "execute_result"
    }
   ],
   "source": [
    "Menu = {'meal_1': 'Spaghetti',\n",
    " 'meal_2': 'Fries',\n",
    " 'meal_3': 'Cheeseburger',\n",
    " 'meal_4': 'Lasagna',\n",
    " 'meal_5': 'Soup',\n",
    " 'meal_6': ['Pancakes', 'Ice-cream', 'Tiramisu']}\n",
    "Menu"
   ]
  },
  {
   "cell_type": "markdown",
   "id": "2431e3b3",
   "metadata": {},
   "source": [
    "# There are many methods of using dictionaries.\n",
    "# 3 ways have been used below!"
   ]
  },
  {
   "cell_type": "code",
   "execution_count": 44,
   "id": "28f7c8e1",
   "metadata": {},
   "outputs": [
    {
     "data": {
      "text/plain": [
       "{'Spaghetti': 10, 'Fries': 5, 'Cheeseburger': 8, 'Lasagna': 12, 'Soup': 5}"
      ]
     },
     "execution_count": 44,
     "metadata": {},
     "output_type": "execute_result"
    }
   ],
   "source": [
    "Price_list = {}\n",
    "Price_list['Spaghetti'] = 10\n",
    "Price_list['Fries'] = 5\n",
    "Price_list['Cheeseburger'] = 8\n",
    "Price_list['Lasagna'] = 12\n",
    "Price_list['Soup'] = 5\n",
    "Price_list"
   ]
  },
  {
   "cell_type": "code",
   "execution_count": 46,
   "id": "0d52872b",
   "metadata": {},
   "outputs": [
    {
     "data": {
      "text/plain": [
       "10"
      ]
     },
     "execution_count": 46,
     "metadata": {},
     "output_type": "execute_result"
    }
   ],
   "source": [
    "Price_list.get('Spaghetti')"
   ]
  },
  {
   "cell_type": "code",
   "execution_count": 47,
   "id": "9ccf93f6",
   "metadata": {},
   "outputs": [
    {
     "data": {
      "text/plain": [
       "{'Fries': 10, 'Soup': 5}"
      ]
     },
     "execution_count": 47,
     "metadata": {},
     "output_type": "execute_result"
    }
   ],
   "source": [
    "#Another way!\n",
    "Price_list_2 = {\n",
    "    'Fries': 10,\n",
    "    'Soup': 5\n",
    "}\n",
    "Price_list_2"
   ]
  },
  {
   "cell_type": "code",
   "execution_count": 53,
   "id": "569e4674",
   "metadata": {},
   "outputs": [
    {
     "data": {
      "text/plain": [
       "{'Soup': 5}"
      ]
     },
     "execution_count": 53,
     "metadata": {},
     "output_type": "execute_result"
    }
   ],
   "source": [
    "# 3rd way!\n",
    "Price_list_3 = dict(Soup = 5)\n",
    "Price_list_2 "
   ]
  },
  {
   "cell_type": "code",
   "execution_count": 54,
   "id": "604f5700",
   "metadata": {},
   "outputs": [],
   "source": [
    "#Scroll down to see the answers!\n",
    "#1 Create a user profile for your new game. This user profile will be stored in a dictionary with keys: 'age', 'username', 'weapons', 'is_active' and 'clan'\n",
    "\n",
    "#2 iterate and print all the keys in the above user.\n",
    "\n",
    "#3 Add a new weapon to your user\n",
    "\n",
    "#4 Add a new key to include 'is_banned'. Set it to false\n",
    "\n",
    "#5 Ban the user by setting the previous key to True\n",
    "\n",
    "#6 create a new user2 my copying the previous user and update the age value and username value. "
   ]
  },
  {
   "cell_type": "code",
   "execution_count": null,
   "id": "06ab5361",
   "metadata": {},
   "outputs": [],
   "source": [
    "user_profile = dict(age = 20, )"
   ]
  }
 ],
 "metadata": {
  "kernelspec": {
   "display_name": "Python 3 (ipykernel)",
   "language": "python",
   "name": "python3"
  },
  "language_info": {
   "codemirror_mode": {
    "name": "ipython",
    "version": 3
   },
   "file_extension": ".py",
   "mimetype": "text/x-python",
   "name": "python",
   "nbconvert_exporter": "python",
   "pygments_lexer": "ipython3",
   "version": "3.9.7"
  }
 },
 "nbformat": 4,
 "nbformat_minor": 5
}
